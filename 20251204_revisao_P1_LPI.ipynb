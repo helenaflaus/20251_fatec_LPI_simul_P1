{
 "cells": [
  {
   "cell_type": "markdown",
   "id": "764b0390",
   "metadata": {},
   "source": [
    "# 🧠 Simulado P1 – Laboratório de Programação I\n",
    "\n",
    "Este notebook contém 20 questões autorais de nível avançado, no estilo da P1 e do simulado aplicado pelo professor. \n",
    "\n",
    "Responda cada questão analisando os códigos e selecione a alternativa correta."
   ]
  },
  {
   "cell_type": "markdown",
   "id": "8d243b66",
   "metadata": {},
   "source": [
    "### Questão 1\n",
    "```python\n",
    "x = 1\n",
    "while x <= 5:\n",
    "    if x % 2 == 0:\n",
    "        x += 1\n",
    "        continue\n",
    "    print(x)\n",
    "    x += 1\n",
    "```\n",
    "**a)** 2 4  \n",
    "**b)** 1 2 3 4 5  \n",
    "**c)** 1 3 5  \n",
    "**d)** 1 3  \n",
    "**e)** Loop infinito"
   ]
  },
  {
   "cell_type": "code",
   "execution_count": null,
   "id": "c71997c7",
   "metadata": {},
   "outputs": [
    {
     "name": "stdout",
     "output_type": "stream",
     "text": [
      "1\n",
      "3\n",
      "5\n"
     ]
    }
   ],
   "source": [
    "# C\n",
    "\n",
    "x = 1\n",
    "while x <= 5:\n",
    "    if x % 2 == 0:\n",
    "        x += 1\n",
    "        continue\n",
    "    print(x)\n",
    "    x += 1"
   ]
  },
  {
   "cell_type": "markdown",
   "id": "b3f3d5e5",
   "metadata": {},
   "source": [
    "resposta C"
   ]
  },
  {
   "cell_type": "markdown",
   "id": "c4b6555a",
   "metadata": {},
   "source": [
    "### Questão 2\n",
    "```python\n",
    "lista = [10, 20, 30, 40, 50]\n",
    "nova_lista = lista[-4:-1:2]\n",
    "print(nova_lista)\n",
    "```\n",
    "**a)** [20, 40]  \n",
    "**b)** [10, 30, 50]  \n",
    "**c)** [20, 30]  \n",
    "**d)** [30, 50]  \n",
    "**e)** [20, 40, 50]"
   ]
  },
  {
   "cell_type": "code",
   "execution_count": null,
   "id": "244e97b2",
   "metadata": {},
   "outputs": [
    {
     "name": "stdout",
     "output_type": "stream",
     "text": [
      "[20, 40]\n"
     ]
    }
   ],
   "source": [
    "# A\n",
    "\n",
    "lista = [10, 20, 30, 40, 50]\n",
    "nova_lista = lista[-4:-1:2]\n",
    "print(nova_lista)"
   ]
  },
  {
   "cell_type": "markdown",
   "id": "ddecbdb9",
   "metadata": {},
   "source": [
    "### Questão 3\n",
    "```python\n",
    "a = True\n",
    "b = False\n",
    "c = True\n",
    "d = False\n",
    "resultado = a and b or not c and not d\n",
    "print(resultado)\n",
    "```\n",
    "**a)** True  \n",
    "**b)** False  \n",
    "**c)** Erro  \n",
    "**d)** and  \n",
    "**e)** None"
   ]
  },
  {
   "cell_type": "code",
   "execution_count": null,
   "id": "9859d641",
   "metadata": {},
   "outputs": [
    {
     "name": "stdout",
     "output_type": "stream",
     "text": [
      "False\n"
     ]
    }
   ],
   "source": [
    "# B\n",
    "\n",
    "a = True\n",
    "b = False\n",
    "c = True\n",
    "d = False\n",
    "resultado = a and b or not c and not d\n",
    "print(resultado)"
   ]
  },
  {
   "cell_type": "markdown",
   "id": "f63af37d",
   "metadata": {},
   "source": [
    "### Questão 4\n",
    "```python\n",
    "palavra = 'abacate'\n",
    "resultado = palavra[::-2]\n",
    "print(resultado)\n",
    "```\n",
    "**a)** eaaa  \n",
    "**b)** etaa  \n",
    "**c)** etc  \n",
    "**d)** etaaba  \n",
    "**e)** etaaab"
   ]
  },
  {
   "cell_type": "code",
   "execution_count": null,
   "id": "170cb8c4",
   "metadata": {},
   "outputs": [
    {
     "name": "stdout",
     "output_type": "stream",
     "text": [
      "eaaa\n"
     ]
    }
   ],
   "source": [
    "# A \n",
    "\n",
    "palavra = 'abacate'\n",
    "resultado = palavra[::-2]\n",
    "print(resultado)"
   ]
  },
  {
   "cell_type": "markdown",
   "id": "40c8f35c",
   "metadata": {},
   "source": [
    "### Questão 5\n",
    "```python\n",
    "def fatorial(n):\n",
    "    resultado = 1\n",
    "    while n > 1:\n",
    "        resultado *= n\n",
    "        n -= 1\n",
    "    return resultado\n",
    "\n",
    "print(fatorial(4))\n",
    "```\n",
    "**a)** 24  \n",
    "**b)** 10  \n",
    "**c)** 12  \n",
    "**d)** 8  \n",
    "**e)** Erro"
   ]
  },
  {
   "cell_type": "code",
   "execution_count": 11,
   "id": "ae31dd2e",
   "metadata": {},
   "outputs": [
    {
     "name": "stdout",
     "output_type": "stream",
     "text": [
      "24\n"
     ]
    }
   ],
   "source": [
    "# A\n",
    "\n",
    "def fatorial(n):\n",
    "    resultado = 1\n",
    "    while n > 1:\n",
    "        resultado *= n\n",
    "        n -= 1\n",
    "    return resultado\n",
    "\n",
    "print(fatorial(4))"
   ]
  },
  {
   "cell_type": "markdown",
   "id": "23a0fb1c",
   "metadata": {},
   "source": [
    "### Questão 6\n",
    "```python\n",
    "x = 1\n",
    "for i in range(1, 4):\n",
    "    x *= i\n",
    "    print(x, end=',')\n",
    "```\n",
    "**a)** 1,2,6,  \n",
    "**b)** 1,2,3,  \n",
    "**c)** 1,2,3,4,  \n",
    "**d)** 2,6,24,  \n",
    "**e)** 1,2,6,24,"
   ]
  },
  {
   "cell_type": "code",
   "execution_count": 16,
   "id": "ade8f52a",
   "metadata": {},
   "outputs": [
    {
     "name": "stdout",
     "output_type": "stream",
     "text": [
      "1,2,6,"
     ]
    }
   ],
   "source": [
    "# 1,2,6, A\n",
    "\n",
    "x = 1\n",
    "for i in range(1, 4):\n",
    "    x *= i\n",
    "    print(x, end=',')"
   ]
  },
  {
   "cell_type": "markdown",
   "id": "15ad780b",
   "metadata": {},
   "source": [
    "### Questão 7\n",
    "```python\n",
    "def verifica(valor):\n",
    "    if valor % 3 == 0:\n",
    "        return \"Multiplo de 3\"\n",
    "    elif valor % 5 == 0:\n",
    "        return \"Multiplo de 5\"\n",
    "    else:\n",
    "        return \"Outro\"\n",
    "\n",
    "print(verifica(15))\n",
    "```\n",
    "**a)** Multiplo de 3 \n",
    "**b)** Multiplo de 5  \n",
    "**c)** Outro  \n",
    "**d)** Multiplo de 3 e 5  \n",
    "**e)** Erro"
   ]
  },
  {
   "cell_type": "code",
   "execution_count": 20,
   "id": "631eb5b1",
   "metadata": {},
   "outputs": [
    {
     "name": "stdout",
     "output_type": "stream",
     "text": [
      "Multiplo de 3\n"
     ]
    }
   ],
   "source": [
    "# A\n",
    "\n",
    "def verifica(valor):\n",
    "    if valor % 3 == 0:\n",
    "        return \"Multiplo de 3\"\n",
    "    elif valor % 5 == 0:\n",
    "        return \"Multiplo de 5\"\n",
    "    else:\n",
    "        return \"Outro\"\n",
    "\n",
    "print(verifica(15))"
   ]
  },
  {
   "cell_type": "markdown",
   "id": "c87b0b2a",
   "metadata": {},
   "source": [
    "### Questão 8\n",
    "```python\n",
    "dados = ['A', 'B', 'C', 'D', 'E']\n",
    "dados[2:4] = ['X', 'Y', 'Z']\n",
    "print(dados)\n",
    "```\n",
    "**a)** ['A', 'B', 'X', 'Y', 'Z', 'E']  \n",
    "**b)** ['A', 'B', 'C', 'X', 'Y', 'Z', 'D', 'E']  \n",
    "**c)** ['A', 'B', 'C', 'D', 'E', 'X', 'Y', 'Z']  \n",
    "**d)** ['X', 'Y', 'Z']  \n",
    "**e)** Erro de atribuição"
   ]
  },
  {
   "cell_type": "code",
   "execution_count": 22,
   "id": "fc7cd6d2",
   "metadata": {},
   "outputs": [
    {
     "name": "stdout",
     "output_type": "stream",
     "text": [
      "['A', 'B', 'X', 'Y', 'Z', 'E']\n"
     ]
    }
   ],
   "source": [
    "# A\n",
    "\n",
    "dados = ['A', 'B', 'C', 'D', 'E']\n",
    "dados[2:4] = ['X', 'Y', 'Z']\n",
    "print(dados)"
   ]
  },
  {
   "cell_type": "markdown",
   "id": "e17edb02",
   "metadata": {},
   "source": [
    "### Questão 9\n",
    "```python\n",
    "a, b = 0, 1\n",
    "contador = 0\n",
    "while contador < 4:\n",
    "    print(a)\n",
    "    a, b = b, a + b\n",
    "    contador += 1\n",
    "```\n",
    "**a)** 0 1 1 2  \n",
    "**b)** 1 1 2 3  \n",
    "**c)** 1 2 3 5  \n",
    "**d)** 0 1 2 3  \n",
    "**e)** 1 2 3 4"
   ]
  },
  {
   "cell_type": "code",
   "execution_count": null,
   "id": "b5285f22",
   "metadata": {},
   "outputs": [
    {
     "name": "stdout",
     "output_type": "stream",
     "text": [
      "0\n",
      "1\n",
      "1\n",
      "2\n"
     ]
    }
   ],
   "source": [
    "# 0 1 1 2 \n",
    "# A\n",
    "\n",
    "a, b = 0, 1\n",
    "contador = 0\n",
    "while contador < 4:\n",
    "    print(a)\n",
    "    a, b = b, a + b\n",
    "    contador += 1"
   ]
  },
  {
   "cell_type": "code",
   "execution_count": 26,
   "id": "f694be39",
   "metadata": {},
   "outputs": [
    {
     "name": "stdout",
     "output_type": "stream",
     "text": [
      "0\n",
      "1\n",
      "2\n",
      "4\n"
     ]
    }
   ],
   "source": [
    "a = 0\n",
    "b = 1\n",
    "contador = 0\n",
    "while contador < 4:\n",
    "    print(a)\n",
    "    a = b\n",
    "    b = a + b\n",
    "    contador += 1"
   ]
  },
  {
   "cell_type": "markdown",
   "id": "05929b31",
   "metadata": {},
   "source": [
    "### Questão 10\n",
    "```python\n",
    "valores = [x**2 for x in range(6) if x % 2 == 0]\n",
    "print(valores)\n",
    "```\n",
    "**a)** [0, 4, 16]  \n",
    "**b)** [1, 4, 9, 16, 25]  \n",
    "**c)** [0, 4, 16, 36]  \n",
    "**d)** [0, 4, 16, 36]  \n",
    "**e)** [0, 4, 16, 36, 64]"
   ]
  },
  {
   "cell_type": "code",
   "execution_count": 27,
   "id": "8c632fba",
   "metadata": {},
   "outputs": [
    {
     "name": "stdout",
     "output_type": "stream",
     "text": [
      "[0, 4, 16]\n"
     ]
    }
   ],
   "source": [
    "# [0, 4, 16]\n",
    "# A\n",
    "\n",
    "valores = [x**2 for x in range(6) if x % 2 == 0]\n",
    "print(valores)"
   ]
  },
  {
   "cell_type": "markdown",
   "id": "f7252493",
   "metadata": {},
   "source": [
    "### Questão 11\n",
    "```python\n",
    "def soma_lista(lista):\n",
    "    total = 0\n",
    "    for item in lista:\n",
    "        total += item\n",
    "    return total\n",
    "\n",
    "print(soma_lista([1, 2, 3, 4]))\n",
    "```\n",
    "**a)** 10  \n",
    "**b)** 9  \n",
    "**c)** 8  \n",
    "**d)** 6  \n",
    "**e)** 7"
   ]
  },
  {
   "cell_type": "code",
   "execution_count": 28,
   "id": "60f307b3",
   "metadata": {},
   "outputs": [
    {
     "name": "stdout",
     "output_type": "stream",
     "text": [
      "10\n"
     ]
    }
   ],
   "source": [
    "# 10\n",
    "# A\n",
    "\n",
    "def soma_lista(lista):\n",
    "    total = 0\n",
    "    for i in lista:\n",
    "        total += i\n",
    "    return total\n",
    "\n",
    "print(soma_lista([1, 2, 3, 4]))"
   ]
  },
  {
   "cell_type": "markdown",
   "id": "89099b85",
   "metadata": {},
   "source": [
    "### Questão 12\n",
    "```python\n",
    "texto = \"Python\"\n",
    "print(texto[-5:-1])\n",
    "```\n",
    "**a)** ytho  \n",
    "**b)** ythoN  \n",
    "**c)** ythoNn  \n",
    "**d)** yth  \n",
    "**e)** ytho"
   ]
  },
  {
   "cell_type": "markdown",
   "id": "4472ca98",
   "metadata": {},
   "source": [
    "### Questão 13\n",
    "```python\n",
    "valores = [2, 4, 6]\n",
    "valores.append(8)\n",
    "valores.insert(1, 3)\n",
    "print(valores)\n",
    "```\n",
    "**a)** [2, 4, 6, 8, 3]  \n",
    "**b)** [2, 3, 4, 6, 8]  \n",
    "**c)** [2, 3, 4, 8, 6]  \n",
    "**d)** [2, 3, 8, 4, 6]  \n",
    "**e)** Erro"
   ]
  },
  {
   "cell_type": "markdown",
   "id": "080b3714",
   "metadata": {},
   "source": [
    "### Questão 14\n",
    "```python\n",
    "lista = ['a', 'b', 'c', 'd', 'e']\n",
    "print(lista[1:-1:2])\n",
    "```\n",
    "**a)** ['b', 'd']  \n",
    "**b)** ['b', 'c', 'd']  \n",
    "**c)** ['a', 'e']  \n",
    "**d)** ['b', 'c', 'e']  \n",
    "**e)** ['b', 'd', 'e']"
   ]
  },
  {
   "cell_type": "markdown",
   "id": "5ee23351",
   "metadata": {},
   "source": [
    "### Questão 15\n",
    "```python\n",
    "x = 0\n",
    "while x < 3:\n",
    "    for i in range(2):\n",
    "        print(x+i)\n",
    "    x += 2\n",
    "```\n",
    "**a)** 0 1 2 3  \n",
    "**b)** 0 1 2 3 4  \n",
    "**c)** 0 1 2 3  \n",
    "**d)** 0 1 2 3 4 5  \n",
    "**e)** 0 1 2 3"
   ]
  },
  {
   "cell_type": "markdown",
   "id": "f79f3d0a",
   "metadata": {},
   "source": [
    "### Questão 16\n",
    "```python\n",
    "def funcao(x):\n",
    "    if x > 0:\n",
    "        return x * 2\n",
    "    else:\n",
    "        return x - 2\n",
    "\n",
    "print(funcao(-3))\n",
    "```\n",
    "**a)** -5  \n",
    "**b)** -1  \n",
    "**c)** 6  \n",
    "**d)** 3  \n",
    "**e)** Erro"
   ]
  },
  {
   "cell_type": "markdown",
   "id": "85487905",
   "metadata": {},
   "source": [
    "### Questão 17\n",
    "```python\n",
    "def verifica_lista(lista):\n",
    "    if len(lista) == 0:\n",
    "        return \"vazia\"\n",
    "    else:\n",
    "        return lista[0]\n",
    "\n",
    "print(verifica_lista([]))\n",
    "```\n",
    "**a)** Erro  \n",
    "**b)** IndexError  \n",
    "**c)** None  \n",
    "**d)** vazia  \n",
    "**e)** 0"
   ]
  },
  {
   "cell_type": "markdown",
   "id": "0d8e7003",
   "metadata": {},
   "source": [
    "### Questão 18\n",
    "```python\n",
    "lista = [1, 2, 3, 4, 5]\n",
    "print(lista[-5:-1:2])\n",
    "```\n",
    "**a)** [1, 3, 5]  \n",
    "**b)** [1, 3]  \n",
    "**c)** [5, 3, 1]  \n",
    "**d)** [2, 4]  \n",
    "**e)** [1, 2, 3, 4]"
   ]
  },
  {
   "cell_type": "markdown",
   "id": "8a062985",
   "metadata": {},
   "source": [
    "### Questão 19\n",
    "```python\n",
    "def operacao(a, b):\n",
    "    return a ** b\n",
    "\n",
    "print(operacao(2, 3))\n",
    "```\n",
    "**a)** 8  \n",
    "**b)** 6  \n",
    "**c)** 9  \n",
    "**d)** 5  \n",
    "**e)** Erro"
   ]
  },
  {
   "cell_type": "markdown",
   "id": "ba9df2da",
   "metadata": {},
   "source": [
    "### Questão 20\n",
    "Qual das alternativas está incorreta sobre slicing?\n",
    "\n",
    "**a)** `lista[::]` retorna todos os elementos  \n",
    "**b)** `lista[::-1]` inverte a lista  \n",
    "**c)** `lista[1:5]` inclui o elemento do índice 5  \n",
    "**d)** `lista[:3]` pega os três primeiros elementos  \n",
    "**e)** `lista[2:]` pega do índice 2 até o final"
   ]
  }
 ],
 "metadata": {
  "kernelspec": {
   "display_name": "Python 3",
   "language": "python",
   "name": "python3"
  },
  "language_info": {
   "codemirror_mode": {
    "name": "ipython",
    "version": 3
   },
   "file_extension": ".py",
   "mimetype": "text/x-python",
   "name": "python",
   "nbconvert_exporter": "python",
   "pygments_lexer": "ipython3",
   "version": "3.12.4"
  }
 },
 "nbformat": 4,
 "nbformat_minor": 5
}
